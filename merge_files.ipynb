{
 "cells": [
  {
   "cell_type": "code",
   "execution_count": 1,
   "metadata": {},
   "outputs": [],
   "source": [
    "import pandas as pd"
   ]
  },
  {
   "cell_type": "code",
   "execution_count": 5,
   "metadata": {},
   "outputs": [
    {
     "data": {
      "text/plain": [
       "(1561, 26)"
      ]
     },
     "execution_count": 5,
     "metadata": {},
     "output_type": "execute_result"
    }
   ],
   "source": [
    "teams = pd.read_csv('/home/chenjie/Desktop/Math564Project/team_rankings.csv')\n",
    "players = pd.read_csv('/home/chenjie/Desktop/Math564Project/players.csv')\n",
    "\n",
    "final_table = pd.merge(teams,players, on = ['Season','TEAM'])\n",
    "final_table.shape"
   ]
  },
  {
   "cell_type": "code",
   "execution_count": 6,
   "metadata": {},
   "outputs": [
    {
     "data": {
      "text/plain": [
       "(1761, 16)"
      ]
     },
     "execution_count": 6,
     "metadata": {},
     "output_type": "execute_result"
    }
   ],
   "source": [
    "players.shape"
   ]
  },
  {
   "cell_type": "code",
   "execution_count": 7,
   "metadata": {},
   "outputs": [
    {
     "data": {
      "text/html": [
       "<div>\n",
       "<style scoped>\n",
       "    .dataframe tbody tr th:only-of-type {\n",
       "        vertical-align: middle;\n",
       "    }\n",
       "\n",
       "    .dataframe tbody tr th {\n",
       "        vertical-align: top;\n",
       "    }\n",
       "\n",
       "    .dataframe thead th {\n",
       "        text-align: right;\n",
       "    }\n",
       "</style>\n",
       "<table border=\"1\" class=\"dataframe\">\n",
       "  <thead>\n",
       "    <tr style=\"text-align: right;\">\n",
       "      <th></th>\n",
       "      <th>Season</th>\n",
       "      <th>TEAM</th>\n",
       "      <th>win</th>\n",
       "      <th>loss</th>\n",
       "      <th>pct</th>\n",
       "      <th>home</th>\n",
       "      <th>away</th>\n",
       "      <th>div</th>\n",
       "      <th>conf</th>\n",
       "      <th>ppg</th>\n",
       "      <th>...</th>\n",
       "      <th>TS</th>\n",
       "      <th>AST</th>\n",
       "      <th>TO</th>\n",
       "      <th>USG</th>\n",
       "      <th>ORR</th>\n",
       "      <th>DRR</th>\n",
       "      <th>REBR</th>\n",
       "      <th>PER</th>\n",
       "      <th>VA</th>\n",
       "      <th>EWA</th>\n",
       "    </tr>\n",
       "  </thead>\n",
       "  <tbody>\n",
       "    <tr>\n",
       "      <th>0</th>\n",
       "      <td>2014</td>\n",
       "      <td>SA</td>\n",
       "      <td>62</td>\n",
       "      <td>20</td>\n",
       "      <td>0.756</td>\n",
       "      <td>32-9</td>\n",
       "      <td>30-11</td>\n",
       "      <td>12-4</td>\n",
       "      <td>38-14</td>\n",
       "      <td>105.4</td>\n",
       "      <td>...</td>\n",
       "      <td>0.535</td>\n",
       "      <td>15.4</td>\n",
       "      <td>11.2</td>\n",
       "      <td>23.5</td>\n",
       "      <td>8.6</td>\n",
       "      <td>28.3</td>\n",
       "      <td>18.8</td>\n",
       "      <td>21.40</td>\n",
       "      <td>318.8</td>\n",
       "      <td>10.6</td>\n",
       "    </tr>\n",
       "    <tr>\n",
       "      <th>1</th>\n",
       "      <td>2014</td>\n",
       "      <td>SA</td>\n",
       "      <td>62</td>\n",
       "      <td>20</td>\n",
       "      <td>0.756</td>\n",
       "      <td>32-9</td>\n",
       "      <td>30-11</td>\n",
       "      <td>12-4</td>\n",
       "      <td>38-14</td>\n",
       "      <td>105.4</td>\n",
       "      <td>...</td>\n",
       "      <td>0.590</td>\n",
       "      <td>25.7</td>\n",
       "      <td>12.2</td>\n",
       "      <td>24.2</td>\n",
       "      <td>2.3</td>\n",
       "      <td>12.0</td>\n",
       "      <td>7.3</td>\n",
       "      <td>20.06</td>\n",
       "      <td>221.2</td>\n",
       "      <td>7.4</td>\n",
       "    </tr>\n",
       "    <tr>\n",
       "      <th>2</th>\n",
       "      <td>2014</td>\n",
       "      <td>SA</td>\n",
       "      <td>62</td>\n",
       "      <td>20</td>\n",
       "      <td>0.756</td>\n",
       "      <td>32-9</td>\n",
       "      <td>30-11</td>\n",
       "      <td>12-4</td>\n",
       "      <td>38-14</td>\n",
       "      <td>105.4</td>\n",
       "      <td>...</td>\n",
       "      <td>0.602</td>\n",
       "      <td>14.6</td>\n",
       "      <td>8.8</td>\n",
       "      <td>17.0</td>\n",
       "      <td>4.6</td>\n",
       "      <td>18.9</td>\n",
       "      <td>12.1</td>\n",
       "      <td>19.43</td>\n",
       "      <td>256.3</td>\n",
       "      <td>8.5</td>\n",
       "    </tr>\n",
       "    <tr>\n",
       "      <th>3</th>\n",
       "      <td>2014</td>\n",
       "      <td>SA</td>\n",
       "      <td>62</td>\n",
       "      <td>20</td>\n",
       "      <td>0.756</td>\n",
       "      <td>32-9</td>\n",
       "      <td>30-11</td>\n",
       "      <td>12-4</td>\n",
       "      <td>38-14</td>\n",
       "      <td>105.4</td>\n",
       "      <td>...</td>\n",
       "      <td>0.555</td>\n",
       "      <td>24.9</td>\n",
       "      <td>9.7</td>\n",
       "      <td>25.9</td>\n",
       "      <td>1.0</td>\n",
       "      <td>7.5</td>\n",
       "      <td>4.4</td>\n",
       "      <td>19.00</td>\n",
       "      <td>238.5</td>\n",
       "      <td>7.9</td>\n",
       "    </tr>\n",
       "    <tr>\n",
       "      <th>4</th>\n",
       "      <td>2014</td>\n",
       "      <td>SA</td>\n",
       "      <td>62</td>\n",
       "      <td>20</td>\n",
       "      <td>0.756</td>\n",
       "      <td>32-9</td>\n",
       "      <td>30-11</td>\n",
       "      <td>12-4</td>\n",
       "      <td>38-14</td>\n",
       "      <td>105.4</td>\n",
       "      <td>...</td>\n",
       "      <td>0.588</td>\n",
       "      <td>16.3</td>\n",
       "      <td>6.9</td>\n",
       "      <td>21.2</td>\n",
       "      <td>2.6</td>\n",
       "      <td>9.6</td>\n",
       "      <td>6.2</td>\n",
       "      <td>18.80</td>\n",
       "      <td>177.7</td>\n",
       "      <td>5.9</td>\n",
       "    </tr>\n",
       "  </tbody>\n",
       "</table>\n",
       "<p>5 rows × 26 columns</p>\n",
       "</div>"
      ],
      "text/plain": [
       "   Season TEAM  win  loss    pct  home   away   div   conf    ppg  ...   \\\n",
       "0    2014   SA   62    20  0.756  32-9  30-11  12-4  38-14  105.4  ...    \n",
       "1    2014   SA   62    20  0.756  32-9  30-11  12-4  38-14  105.4  ...    \n",
       "2    2014   SA   62    20  0.756  32-9  30-11  12-4  38-14  105.4  ...    \n",
       "3    2014   SA   62    20  0.756  32-9  30-11  12-4  38-14  105.4  ...    \n",
       "4    2014   SA   62    20  0.756  32-9  30-11  12-4  38-14  105.4  ...    \n",
       "\n",
       "      TS   AST    TO   USG  ORR   DRR  REBR    PER     VA   EWA  \n",
       "0  0.535  15.4  11.2  23.5  8.6  28.3  18.8  21.40  318.8  10.6  \n",
       "1  0.590  25.7  12.2  24.2  2.3  12.0   7.3  20.06  221.2   7.4  \n",
       "2  0.602  14.6   8.8  17.0  4.6  18.9  12.1  19.43  256.3   8.5  \n",
       "3  0.555  24.9   9.7  25.9  1.0   7.5   4.4  19.00  238.5   7.9  \n",
       "4  0.588  16.3   6.9  21.2  2.6   9.6   6.2  18.80  177.7   5.9  \n",
       "\n",
       "[5 rows x 26 columns]"
      ]
     },
     "execution_count": 7,
     "metadata": {},
     "output_type": "execute_result"
    }
   ],
   "source": [
    "final_table.head()"
   ]
  },
  {
   "cell_type": "code",
   "execution_count": 8,
   "metadata": {},
   "outputs": [],
   "source": [
    "final_table.to_csv('final_table.csv')"
   ]
  }
 ],
 "metadata": {
  "kernelspec": {
   "display_name": "Python 3",
   "language": "python",
   "name": "python3"
  },
  "language_info": {
   "codemirror_mode": {
    "name": "ipython",
    "version": 3
   },
   "file_extension": ".py",
   "mimetype": "text/x-python",
   "name": "python",
   "nbconvert_exporter": "python",
   "pygments_lexer": "ipython3",
   "version": "3.6.5"
  }
 },
 "nbformat": 4,
 "nbformat_minor": 2
}
